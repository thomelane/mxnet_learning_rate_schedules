{
 "cells": [
  {
   "cell_type": "markdown",
   "metadata": {
    "slideshow": {
     "slide_type": "slide"
    }
   },
   "source": [
    "# Learning Rate Schedules\n",
    "\n",
    "### Changing the Learning Rate _over time_"
   ]
  },
  {
   "cell_type": "markdown",
   "metadata": {
    "slideshow": {
     "slide_type": "subslide"
    }
   },
   "source": [
    "## Constant learning rate"
   ]
  },
  {
   "cell_type": "markdown",
   "metadata": {
    "slideshow": {
     "slide_type": "fragment"
    }
   },
   "source": [
    "$$\\theta_{j+1} = \\theta_{j} - \\alpha  J'(\\theta_{j})$$\n",
    "\n",
    "$$\\alpha = \\text{learning rate}$$"
   ]
  },
  {
   "cell_type": "markdown",
   "metadata": {
    "slideshow": {
     "slide_type": "subslide"
    }
   },
   "source": [
    "<center><img src=\"https://cdn-images-1.medium.com/max/1600/0*uIa_Dz3czXO5iWyI.\" width=\"600px\"/></center>"
   ]
  },
  {
   "cell_type": "markdown",
   "metadata": {
    "slideshow": {
     "slide_type": "subslide"
    }
   },
   "source": [
    "## Changing learning rate _over time_ with Schedules"
   ]
  },
  {
   "cell_type": "markdown",
   "metadata": {
    "slideshow": {
     "slide_type": "fragment"
    }
   },
   "source": [
    "$$\\theta_{j+1} = \\theta_{j} - \\alpha_{j}  J'(\\theta_{j})$$\n",
    "\n",
    "$$\\alpha_{j} = \\text{learning rate at iteration } j$$"
   ]
  },
  {
   "cell_type": "markdown",
   "metadata": {
    "slideshow": {
     "slide_type": "fragment"
    }
   },
   "source": [
    "__Schedules__ define how the learning rate changes over time.\n",
    "\n",
    "Specified for each epoch or iteration (i.e. batch) of training.\n",
    "\n",
    "Can be used to overcome speed vs performance tradeoff."
   ]
  },
  {
   "cell_type": "markdown",
   "metadata": {
    "slideshow": {
     "slide_type": "subslide"
    }
   },
   "source": [
    "## Same as adaptive methods?"
   ]
  },
  {
   "cell_type": "markdown",
   "metadata": {
    "slideshow": {
     "slide_type": "fragment"
    }
   },
   "source": [
    "Schedules differ from adaptive methods (such as AdaDelta and Adam) because they:\n",
    "\n",
    "* change the global learning rate for the optimizer, rather than parameter-wise learning rates\n",
    "* don't take feedback from the training process and are specified beforehand"
   ]
  },
  {
   "cell_type": "code",
   "execution_count": 1,
   "metadata": {
    "slideshow": {
     "slide_type": "subslide"
    }
   },
   "outputs": [
    {
     "name": "stderr",
     "output_type": "stream",
     "text": [
      "/home/ubuntu/anaconda3/envs/mxnet_p36/lib/python3.6/site-packages/matplotlib/__init__.py:1067: UserWarning: Duplicate key in file \"/home/ubuntu/.config/matplotlib/matplotlibrc\", line #2\n",
      "  (fname, cnt))\n",
      "/home/ubuntu/anaconda3/envs/mxnet_p36/lib/python3.6/site-packages/matplotlib/__init__.py:1067: UserWarning: Duplicate key in file \"/home/ubuntu/.config/matplotlib/matplotlibrc\", line #3\n",
      "  (fname, cnt))\n"
     ]
    }
   ],
   "source": [
    "%matplotlib inline\n",
    "from __future__ import print_function\n",
    "import math\n",
    "import matplotlib.pyplot as plt\n",
    "import mxnet as mx\n",
    "from mxnet.gluon import nn\n",
    "from mxnet.gluon.data.vision import transforms\n",
    "import numpy as np"
   ]
  },
  {
   "cell_type": "code",
   "execution_count": 2,
   "metadata": {
    "slideshow": {
     "slide_type": "fragment"
    }
   },
   "outputs": [],
   "source": [
    "def plot_schedule(schedule_fn, iterations=1500):\n",
    "    # Iteration count starting at 1\n",
    "    iterations = [i+1 for i in range(iterations)]\n",
    "    lrs = [schedule_fn(i) for i in iterations]\n",
    "    plt.figure(figsize=(8,6))\n",
    "    plt.scatter(iterations, lrs)\n",
    "    plt.xlabel(\"Iteration\", fontsize=18)\n",
    "    plt.ylabel(\"Learning Rate\", fontsize=18)\n",
    "    plt.show() "
   ]
  },
  {
   "cell_type": "markdown",
   "metadata": {
    "slideshow": {
     "slide_type": "slide"
    }
   },
   "source": [
    "## Stepwise Decay Schedules"
   ]
  },
  {
   "cell_type": "markdown",
   "metadata": {
    "slideshow": {
     "slide_type": "subslide"
    }
   },
   "source": [
    "### `FactorScheduler` in `mxnet.lr_scheduler`"
   ]
  },
  {
   "cell_type": "code",
   "execution_count": 3,
   "metadata": {
    "slideshow": {
     "slide_type": "fragment"
    }
   },
   "outputs": [
    {
     "data": {
      "image/png": "[encoded data removed]",
      "text/plain": [
       "<Figure size 576x432 with 1 Axes>"
      ]
     },
     "metadata": {},
     "output_type": "display_data"
    }
   ],
   "source": [
    "schedule = mx.lr_scheduler.FactorScheduler(step=250, factor=0.5)\n",
    "schedule.base_lr = 1\n",
    "plot_schedule(schedule)"
   ]
  },
  {
   "cell_type": "markdown",
   "metadata": {
    "slideshow": {
     "slide_type": "subslide"
    }
   },
   "source": [
    "### `MultiFactorScheduler`  in `mxnet.lr_scheduler`"
   ]
  },
  {
   "cell_type": "code",
   "execution_count": 4,
   "metadata": {
    "slideshow": {
     "slide_type": "fragment"
    }
   },
   "outputs": [
    {
     "data": {
      "image/png": "[encoded data removed]",
      "text/plain": [
       "<Figure size 576x432 with 1 Axes>"
      ]
     },
     "metadata": {},
     "output_type": "display_data"
    }
   ],
   "source": [
    "schedule = mx.lr_scheduler.MultiFactorScheduler(step=[250, 750, 900], factor=0.5)\n",
    "schedule.base_lr = 1\n",
    "plot_schedule(schedule)"
   ]
  },
  {
   "cell_type": "markdown",
   "metadata": {
    "slideshow": {
     "slide_type": "slide"
    }
   },
   "source": [
    "## Polynomial Schedule"
   ]
  },
  {
   "cell_type": "markdown",
   "metadata": {
    "slideshow": {
     "slide_type": "subslide"
    }
   },
   "source": [
    "### `PolyScheduler`  in `mxnet.lr_scheduler`"
   ]
  },
  {
   "cell_type": "code",
   "execution_count": 5,
   "metadata": {
    "slideshow": {
     "slide_type": "fragment"
    }
   },
   "outputs": [
    {
     "data": {
      "image/png": "[encoded data removed]",
      "text/plain": [
       "<Figure size 576x432 with 1 Axes>"
      ]
     },
     "metadata": {},
     "output_type": "display_data"
    }
   ],
   "source": [
    "schedule = mx.lr_scheduler.PolyScheduler(max_update=1000, base_lr=1, pwr=2)\n",
    "plot_schedule(schedule)"
   ]
  },
  {
   "cell_type": "markdown",
   "metadata": {
    "slideshow": {
     "slide_type": "slide"
    }
   },
   "source": [
    "## Custom Schedules"
   ]
  },
  {
   "cell_type": "code",
   "execution_count": 6,
   "metadata": {
    "slideshow": {
     "slide_type": "subslide"
    }
   },
   "outputs": [],
   "source": [
    "class CosineAnnealingSchedule():\n",
    "    def __init__(self, min_lr, max_lr, cycle_length):\n",
    "        self.min_lr = min_lr\n",
    "        self.max_lr = max_lr\n",
    "        self.cycle_length = cycle_length\n",
    "        \n",
    "    def __call__(self, iteration):\n",
    "        if iteration <= self.cycle_length:\n",
    "            unit_cycle = (1 + math.cos(iteration * math.pi / self.cycle_length)) / 2\n",
    "            adjusted_cycle = (unit_cycle * (self.max_lr - self.min_lr)) + self.min_lr\n",
    "            return adjusted_cycle\n",
    "        else:\n",
    "            return self.min_lr"
   ]
  },
  {
   "cell_type": "code",
   "execution_count": 7,
   "metadata": {
    "slideshow": {
     "slide_type": "subslide"
    }
   },
   "outputs": [
    {
     "data": {
      "image/png": "[encoded data removed]",
      "text/plain": [
       "<Figure size 576x432 with 1 Axes>"
      ]
     },
     "metadata": {},
     "output_type": "display_data"
    }
   ],
   "source": [
    "schedule = CosineAnnealingSchedule(min_lr=0, max_lr=1, cycle_length=1000)\n",
    "plot_schedule(schedule)"
   ]
  },
  {
   "cell_type": "markdown",
   "metadata": {
    "slideshow": {
     "slide_type": "slide"
    }
   },
   "source": [
    "# Using Schedules"
   ]
  },
  {
   "cell_type": "code",
   "execution_count": 8,
   "metadata": {
    "slideshow": {
     "slide_type": "subslide"
    }
   },
   "outputs": [],
   "source": [
    "# Use GPU if one exists, else use CPU\n",
    "ctx = mx.gpu() if mx.test_utils.list_gpus() else mx.cpu()\n",
    "\n",
    "# MNIST images are 28x28. Total pixels in input layer is 28x28 = 784\n",
    "num_inputs = 784\n",
    "# Clasify the images into one of the 10 digits\n",
    "num_outputs = 10\n",
    "# 64 images in a batch\n",
    "batch_size = 64\n",
    "\n",
    "# Load the training data\n",
    "train_dataset = mx.gluon.data.vision.MNIST(train=True).transform_first(transforms.ToTensor())\n",
    "train_dataloader = mx.gluon.data.DataLoader(train_dataset, batch_size, shuffle=True) "
   ]
  },
  {
   "cell_type": "code",
   "execution_count": 9,
   "metadata": {
    "slideshow": {
     "slide_type": "subslide"
    }
   },
   "outputs": [],
   "source": [
    "# Build a simple convolutional network\n",
    "def build_cnn():\n",
    "    net = nn.HybridSequential()\n",
    "    with net.name_scope():\n",
    "        # First convolution\n",
    "        net.add(nn.Conv2D(channels=10, kernel_size=5, activation='relu'))\n",
    "        net.add(nn.MaxPool2D(pool_size=2, strides=2))\n",
    "        # Second convolution\n",
    "        net.add(nn.Conv2D(channels=20, kernel_size=5, activation='relu'))\n",
    "        net.add(nn.MaxPool2D(pool_size=2, strides=2))\n",
    "        # Flatten the output before the fully connected layers\n",
    "        net.add(nn.Flatten())\n",
    "        # First fully connected layers with 512 neurons\n",
    "        net.add(nn.Dense(512, activation=\"relu\"))\n",
    "        # Second fully connected layer with as many neurons as the number of classes\n",
    "        net.add(nn.Dense(num_outputs))\n",
    "        return net"
   ]
  },
  {
   "cell_type": "code",
   "execution_count": 10,
   "metadata": {
    "slideshow": {
     "slide_type": "subslide"
    }
   },
   "outputs": [],
   "source": [
    "net = build_cnn()\n",
    "#Initialize the parameters with Xavier initializer\n",
    "net.collect_params().initialize(mx.init.Xavier(), ctx=ctx)\n",
    "# Use cross entropy loss\n",
    "softmax_cross_entropy = mx.gluon.loss.SoftmaxCrossEntropyLoss()"
   ]
  },
  {
   "cell_type": "markdown",
   "metadata": {
    "slideshow": {
     "slide_type": "subslide"
    }
   },
   "source": [
    "### Epochs to Iterations"
   ]
  },
  {
   "cell_type": "code",
   "execution_count": 11,
   "metadata": {
    "slideshow": {
     "slide_type": "fragment"
    }
   },
   "outputs": [
    {
     "name": "stdout",
     "output_type": "stream",
     "text": [
      "Learning rate drops after iterations: [3752, 6566, 8442]\n"
     ]
    }
   ],
   "source": [
    "steps_epochs = [4, 7, 9]\n",
    "# assuming we keep partial batches, see `last_batch` parameter of DataLoader\n",
    "iterations_per_epoch = math.ceil(len(train_dataset) / batch_size)\n",
    "# iterations just before starts of epochs (iterations are 1-indexed)\n",
    "steps_iterations = [s*iterations_per_epoch for s in steps_epochs]\n",
    "print(\"Learning rate drops after iterations: {}\".format(steps_iterations))"
   ]
  },
  {
   "cell_type": "markdown",
   "metadata": {
    "slideshow": {
     "slide_type": "subslide"
    }
   },
   "source": [
    "###  `Optimizer`'s `lr_scheduler` parameter:"
   ]
  },
  {
   "cell_type": "code",
   "execution_count": 12,
   "metadata": {
    "slideshow": {
     "slide_type": "fragment"
    }
   },
   "outputs": [],
   "source": [
    "schedule = mx.lr_scheduler.MultiFactorScheduler(step=steps_iterations, factor=0.1)"
   ]
  },
  {
   "cell_type": "code",
   "execution_count": 13,
   "metadata": {
    "slideshow": {
     "slide_type": "fragment"
    }
   },
   "outputs": [],
   "source": [
    "sgd_optimizer = mx.optimizer.SGD(learning_rate=0.03, lr_scheduler=schedule)"
   ]
  },
  {
   "cell_type": "code",
   "execution_count": 14,
   "metadata": {
    "slideshow": {
     "slide_type": "fragment"
    }
   },
   "outputs": [],
   "source": [
    "trainer = mx.gluon.Trainer(params=net.collect_params(), optimizer=sgd_optimizer)"
   ]
  },
  {
   "cell_type": "markdown",
   "metadata": {
    "slideshow": {
     "slide_type": "subslide"
    }
   },
   "source": [
    "### Usual training loop"
   ]
  },
  {
   "cell_type": "code",
   "execution_count": 15,
   "metadata": {
    "slideshow": {
     "slide_type": "fragment"
    }
   },
   "outputs": [
    {
     "name": "stdout",
     "output_type": "stream",
     "text": [
      "Epoch: 1; Batch 1; Loss 2.314107; LR 0.030000\n",
      "Epoch: 2; Batch 1; Loss 0.280223; LR 0.030000\n",
      "Epoch: 3; Batch 1; Loss 0.195433; LR 0.030000\n",
      "Epoch: 4; Batch 1; Loss 0.026447; LR 0.030000\n",
      "Epoch: 5; Batch 1; Loss 0.033129; LR 0.003000\n",
      "Epoch: 6; Batch 1; Loss 0.030442; LR 0.003000\n",
      "Epoch: 7; Batch 1; Loss 0.026779; LR 0.003000\n",
      "Epoch: 8; Batch 1; Loss 0.043096; LR 0.000300\n",
      "Epoch: 9; Batch 1; Loss 0.009633; LR 0.000300\n",
      "Epoch: 10; Batch 1; Loss 0.006982; LR 0.000030\n"
     ]
    }
   ],
   "source": [
    "num_epochs = 10\n",
    "# epoch and batch counts starting at 1\n",
    "for epoch in range(1, num_epochs+1):\n",
    "    # Iterate through the images and labels in the training data\n",
    "    for batch_num, (data, label) in enumerate(train_dataloader, start=1):\n",
    "        # get the images and labels\n",
    "        data = data.as_in_context(ctx)\n",
    "        label = label.as_in_context(ctx)\n",
    "        # Ask autograd to record the forward pass\n",
    "        with mx.autograd.record():\n",
    "            # Run the forward pass\n",
    "            output = net(data)\n",
    "            # Compute the loss\n",
    "            loss = softmax_cross_entropy(output, label)\n",
    "        # Compute gradients\n",
    "        loss.backward()\n",
    "        # Update parameters\n",
    "        trainer.step(data.shape[0])\n",
    "\n",
    "        # Show loss and learning rate after first iteration of epoch\n",
    "        if batch_num == 1:\n",
    "            curr_loss = mx.nd.mean(loss).asscalar()\n",
    "            curr_lr = trainer.learning_rate\n",
    "            print(\"Epoch: %d; Batch %d; Loss %f; LR %f\" % (epoch, batch_num, curr_loss, curr_lr))"
   ]
  },
  {
   "cell_type": "markdown",
   "metadata": {
    "slideshow": {
     "slide_type": "slide"
    }
   },
   "source": [
    "## Manually setting the learning rate: Gluon API only"
   ]
  },
  {
   "cell_type": "code",
   "execution_count": null,
   "metadata": {
    "slideshow": {
     "slide_type": "fragment"
    }
   },
   "outputs": [],
   "source": [
    "net = build_cnn()\n",
    "net.collect_params().initialize(mx.init.Xavier(), ctx=ctx)\n",
    "\n",
    "schedule = mx.lr_scheduler.MultiFactorScheduler(step=steps_iterations, factor=0.1)\n",
    "schedule.base_lr = 0.03\n",
    "sgd_optimizer = mx.optimizer.SGD()\n",
    "trainer = mx.gluon.Trainer(params=net.collect_params(), optimizer=sgd_optimizer)"
   ]
  },
  {
   "cell_type": "code",
   "execution_count": 17,
   "metadata": {
    "slideshow": {
     "slide_type": "subslide"
    }
   },
   "outputs": [
    {
     "name": "stdout",
     "output_type": "stream",
     "text": [
      "Epoch: 1; Batch 1; Loss 2.303522; LR 0.030000\n",
      "Epoch: 2; Batch 1; Loss 0.038703; LR 0.030000\n",
      "Epoch: 3; Batch 1; Loss 0.017371; LR 0.030000\n",
      "Epoch: 4; Batch 1; Loss 0.067502; LR 0.030000\n",
      "Epoch: 5; Batch 1; Loss 0.017181; LR 0.003000\n",
      "Epoch: 6; Batch 1; Loss 0.006709; LR 0.003000\n",
      "Epoch: 7; Batch 1; Loss 0.090532; LR 0.003000\n",
      "Epoch: 8; Batch 1; Loss 0.031328; LR 0.000300\n",
      "Epoch: 9; Batch 1; Loss 0.100414; LR 0.000300\n",
      "Epoch: 10; Batch 1; Loss 0.024950; LR 0.000030\n"
     ]
    }
   ],
   "source": [
    "iteration_idx = 1\n",
    "num_epochs = 10\n",
    "# epoch and batch counts starting at 1\n",
    "for epoch in range(1, num_epochs + 1):\n",
    "    # Iterate through the images and labels in the training data\n",
    "    for batch_num, (data, label) in enumerate(train_dataloader, start=1):\n",
    "        # get the images and labels\n",
    "        data = data.as_in_context(ctx)\n",
    "        label = label.as_in_context(ctx)\n",
    "        # Ask autograd to record the forward pass\n",
    "        with mx.autograd.record():\n",
    "            # Run the forward pass\n",
    "            output = net(data)\n",
    "            # Compute the loss\n",
    "            loss = softmax_cross_entropy(output, label)\n",
    "        # Compute gradients\n",
    "        loss.backward()\n",
    "        # Update the learning rate\n",
    "        lr = schedule(iteration_idx)\n",
    "        trainer.set_learning_rate(lr)\n",
    "        # Update parameters\n",
    "        trainer.step(data.shape[0])\n",
    "        # Show loss and learning rate after first iteration of epoch\n",
    "        if batch_num == 1:\n",
    "            curr_loss = mx.nd.mean(loss).asscalar()\n",
    "            curr_lr = trainer.learning_rate\n",
    "            print(\"Epoch: %d; Batch %d; Loss %f; LR %f\" % (epoch, batch_num, curr_loss, curr_lr))\n",
    "        iteration_idx += 1"
   ]
  },
  {
   "cell_type": "markdown",
   "metadata": {
    "slideshow": {
     "slide_type": "subslide"
    }
   },
   "source": [
    "# State-of-the-art Schedules in the next video!"
   ]
  }
 ],
 "metadata": {
  "celltoolbar": "Slideshow",
  "kernelspec": {
   "display_name": "Python 3",
   "language": "python",
   "name": "python3"
  },
  "language_info": {
   "codemirror_mode": {
    "name": "ipython",
    "version": 3
   },
   "file_extension": ".py",
   "mimetype": "text/x-python",
   "name": "python",
   "nbconvert_exporter": "python",
   "pygments_lexer": "ipython3",
   "version": "3.6.4"
  }
 },
 "nbformat": 4,
 "nbformat_minor": 2
}
